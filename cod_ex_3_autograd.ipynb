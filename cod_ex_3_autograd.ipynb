{
 "cells": [
  {
   "cell_type": "code",
   "execution_count": null,
   "id": "d8badd74",
   "metadata": {},
   "outputs": [
    {
     "name": "stdout",
     "output_type": "stream",
     "text": [
      "Gradient of x: tensor(6.)\n",
      "Gradient of w: tensor([1.])\n",
      "Gradient of b: tensor(1.)\n"
     ]
    }
   ],
   "source": [
    "import torch\n",
    "\n",
    "# 1. Create a tensor 'x' with the value 2.0 and enable gradient tracking.\n",
    "x = torch.tensor(2.0, requires_grad=True)\n",
    "\n",
    "# 2. Define a simple quadratic function: y = x^2 + 2*x + 1\n",
    "y = x**2 + 2*x + 1\n",
    "\n",
    "# 3. Compute the gradient of 'y' with respect to 'x'.\n",
    "#    Before doing this, what do you expect the gradient to be based on calculus?\n",
    "#    (The derivative of x^2 + 2x + 1 is 2x + 2. At x=2, the gradient should be 2*(2) + 2 = 6)\n",
    "\n",
    "# 4. Call the .backward() method on 'y' to compute the gradient.\n",
    "# In this case, y output is already a scalar.\n",
    "y.backward()\n",
    "\n",
    "# 5. Access the computed gradient of 'x' using the .grad attribute.\n",
    "print(\"Gradient of x:\", x.grad)\n",
    "\n",
    "# 6. Create another tensor 'w' with a random value and enable gradient tracking.\n",
    "w = torch.randn(1, requires_grad=True)\n",
    "\n",
    "# 7. Create a tensor 'b' with the value -1.0 and enable gradient tracking.\n",
    "b = torch.tensor(-1.0, requires_grad=True)\n",
    "\n",
    "# 8. Define a simple linear model output: prediction = w * x + b\n",
    "prediction = w * x + b\n",
    "\n",
    "# 9. Define a target value: target = 5.0\n",
    "target = torch.tensor(5.0)\n",
    "\n",
    "# 10. Calculate the mean squared error (MSE) loss: loss = (prediction - target)^2\n",
    "loss = (prediction - target)**2\n",
    "\n",
    "# 11. Compute the gradients of the loss with respect to 'w' and 'b'.\n",
    "# To compute gradients for non-scalar tensors, we typically compute the gradient of a scalar output.\n",
    "# In this case, 'loss' is already a scalar.\n",
    "loss.backward()\n",
    "\n",
    "# 12. Access and print the gradients of 'w' and 'b'.\n",
    "print(\"Gradient of w:\", w.grad)\n",
    "print(\"Gradient of b:\", b.grad)\n",
    "\n",
    "# 13. Briefly explain in the comments what the .backward() method does and why it's crucial for training neural networks.\n",
    "# Your explanation here:\n",
    "# The .backward() method in PyTorch calculates the gradient of a tensor with respect to all the tensors that have requires_grad=True and were involved in the computation of that tensor.\n",
    "# It traverses the computational graph backwards from the tensor on which it's called, applying the chain rule of calculus to compute these gradients.\n",
    "# This is crucial for training neural networks because it allows us to determine how much each parameter (weight and bias) contributes to the loss.\n",
    "# These gradients are then used by optimization algorithms (like gradient descent) to update the parameters in a direction that reduces the loss, thus improving the network's performance over iterations."
   ]
  }
 ],
 "metadata": {
  "kernelspec": {
   "display_name": "YOLO_GPU",
   "language": "python",
   "name": "python3"
  },
  "language_info": {
   "codemirror_mode": {
    "name": "ipython",
    "version": 3
   },
   "file_extension": ".py",
   "mimetype": "text/x-python",
   "name": "python",
   "nbconvert_exporter": "python",
   "pygments_lexer": "ipython3",
   "version": "3.9.20"
  }
 },
 "nbformat": 4,
 "nbformat_minor": 5
}
