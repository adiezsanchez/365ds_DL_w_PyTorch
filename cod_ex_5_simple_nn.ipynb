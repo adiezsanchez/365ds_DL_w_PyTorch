{
 "cells": [
  {
   "cell_type": "code",
   "execution_count": 1,
   "id": "b8010dd8",
   "metadata": {},
   "outputs": [
    {
     "name": "stdout",
     "output_type": "stream",
     "text": [
      "Using device: cuda\n",
      "Shape of the dummy output: torch.Size([1, 1])\n"
     ]
    }
   ],
   "source": [
    "import torch\n",
    "import torch.nn as nn\n",
    "import torch.nn.functional as F\n",
    "\n",
    "# 1. Determine if a CUDA-enabled GPU is available and set the device accordingly.\n",
    "device = torch.device(\"cuda\" if torch.cuda.is_available() else \"cpu\")\n",
    "print(f\"Using device: {device}\")\n",
    "\n",
    "# 2. Define a simple feed-forward neural network class called 'SimpleNet' that inherits from nn.Module.\n",
    "class SimpleNet(nn.Module):\n",
    "    def __init__(self, input_size, hidden_size, output_size):\n",
    "        super(SimpleNet, self).__init__()\n",
    "        # Define the first fully connected (linear) layer: input_size to hidden_size.\n",
    "        self.linear1 = nn.Linear(input_size, hidden_size)\n",
    "        # Define the activation function (e.g., nn.Tanh()).\n",
    "        self.tanh = nn.Tanh()\n",
    "        # Define the second fully connected (linear) layer: hidden_size to output_size.\n",
    "        self.linear2 = nn.Linear(hidden_size, output_size)\n",
    "\n",
    "    def forward(self, x):\n",
    "        # Define the forward pass of the network:\n",
    "        # 1. Pass the input 'x' through the first linear layer.\n",
    "        out = self.linear1(x)\n",
    "        # 2. Apply the activation function.\n",
    "        out = self.tanh(out)\n",
    "        # 3. Pass the output through the second linear layer.\n",
    "        out = self.linear2(out)\n",
    "        return out\n",
    "\n",
    "# 3. Instantiate the 'SimpleNet' model with an input size of 1, a hidden size of 10, and an output size of 1.\n",
    "input_size = 1\n",
    "hidden_size = 10\n",
    "output_size = 1\n",
    "model = SimpleNet(input_size, hidden_size, output_size)\n",
    "\n",
    "# 4. Move the model to the defined device (CPU or GPU).\n",
    "model.to(device)\n",
    "\n",
    "# 5. Generate a dummy input tensor of shape (1, 1) and move it to the same device as the model.\n",
    "dummy_input = torch.randn(1, 1).to(device)\n",
    "\n",
    "# 6. Perform a forward pass with the dummy input and print the output shape.\n",
    "dummy_output = model(dummy_input)\n",
    "print(\"Shape of the dummy output:\", dummy_output.shape)\n",
    "\n",
    "# 7. Briefly explain in the comments the role of the activation function (self.tanh) in this network.\n",
    "# Your explanation here:\n",
    "# The activation function (tanh in this case) introduces non-linearity into the neural network.\n",
    "# Without non-linear activation functions, a neural network with multiple linear layers would be mathematically equivalent to a single linear layer, limiting its ability to learn complex, non-linear relationships in the data.\n",
    "# The tanh function allows the network to model more intricate patterns by transforming the linear outputs of the first layer before they are passed to the next layer.\n"
   ]
  }
 ],
 "metadata": {
  "kernelspec": {
   "display_name": "microglia_GPU",
   "language": "python",
   "name": "python3"
  },
  "language_info": {
   "codemirror_mode": {
    "name": "ipython",
    "version": 3
   },
   "file_extension": ".py",
   "mimetype": "text/x-python",
   "name": "python",
   "nbconvert_exporter": "python",
   "pygments_lexer": "ipython3",
   "version": "3.9.19"
  }
 },
 "nbformat": 4,
 "nbformat_minor": 5
}
