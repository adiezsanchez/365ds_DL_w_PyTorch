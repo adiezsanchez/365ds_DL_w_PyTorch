{
 "cells": [
  {
   "cell_type": "code",
   "execution_count": 9,
   "id": "739467b1",
   "metadata": {},
   "outputs": [
    {
     "name": "stdout",
     "output_type": "stream",
     "text": [
      "Shape of scalar_tensor: torch.Size([])\n",
      "Shape of vector_tensor: torch.Size([5])\n",
      "Shape of matrix_tensor: torch.Size([2, 3])\n",
      "Shape of tensor_3d: torch.Size([2, 2, 3])\n",
      "Shape of reshaped_tensor: tensor([1, 2, 3, 4, 5, 6])\n",
      "Added vector: tensor([ 7,  9, 11, 13, 15])\n",
      "Multiplied matrix: tensor([[17, 22, 27],\n",
      "        [22, 29, 36],\n",
      "        [27, 36, 45]])\n",
      "NumPy array:\n",
      " [[ 6 10  9]\n",
      " [ 8  6  4]\n",
      " [10  3  3]]\n",
      "PyTorch tensor from NumPy:\n",
      " tensor([[ 6, 10,  9],\n",
      "        [ 8,  6,  4],\n",
      "        [10,  3,  3]])\n",
      "Data type of float_tensor: torch.float32\n"
     ]
    }
   ],
   "source": [
    "import torch\n",
    "import numpy as np\n",
    "\n",
    "# 1. Create the following tensors:\n",
    "#    a. A scalar tensor with the value 7.\n",
    "#    b. A 1D tensor (vector) containing the numbers [2, 4, 6, 8, 10].\n",
    "#    c. A 2D tensor (matrix) with the following rows: [1, 2, 3], [4, 5, 6].\n",
    "#    d. A 3D tensor with the shape (2, 2, 3) containing any values you like.\n",
    "scalar_tensor = torch.tensor(7)\n",
    "vector_tensor = torch.tensor([2, 4, 6, 8, 10])\n",
    "matrix_tensor = torch.tensor([[1, 2, 3],\n",
    "                              [4, 5, 6]])\n",
    "tensor_3d = torch.tensor([\n",
    "                         [\n",
    "                         [1,2,3],\n",
    "                         [3,4,4]\n",
    "                         ],\n",
    "                         [\n",
    "                         [1,2,3],\n",
    "                         [3,4,4]\n",
    "                         ]\n",
    "])\n",
    "\n",
    "# 2. Print the shape of each of the tensors you created above.\n",
    "print(\"Shape of scalar_tensor:\", scalar_tensor.shape)\n",
    "print(\"Shape of vector_tensor:\", vector_tensor.shape)\n",
    "print(\"Shape of matrix_tensor:\", matrix_tensor.shape)\n",
    "print(\"Shape of tensor_3d:\", tensor_3d.shape)\n",
    "\n",
    "# 3. Reshape the matrix_tensor into a 1D tensor. Print the shape of the reshaped tensor.\n",
    "reshaped_tensor = matrix_tensor.flatten()\n",
    "print(\"Shape of reshaped_tensor:\", reshaped_tensor)\n",
    "\n",
    "# 4. Perform the following element-wise operation: Add 5 to each element of the vector_tensor.\n",
    "added_vector = vector_tensor + 5\n",
    "print(\"Added vector:\", added_vector)\n",
    "\n",
    "# 5. Perform matrix multiplication of matrix_tensor with its transpose. Print the resulting tensor.\n",
    "transposed_matrix = torch.transpose(matrix_tensor, 0, 1)\n",
    "multiplied_matrix = transposed_matrix @ matrix_tensor\n",
    "print(\"Multiplied matrix:\", multiplied_matrix)\n",
    "\n",
    "# 6. Create a NumPy array of shape (3, 3) with random integer values between 1 and 10.\n",
    "numpy_array = np.random.randint(1, 11, size=(3, 3))\n",
    "print(\"NumPy array:\\n\", numpy_array)\n",
    "\n",
    "# 7. Convert the NumPy array to a PyTorch tensor.\n",
    "pytorch_from_numpy = torch.tensor(numpy_array, dtype=torch.int64)\n",
    "print(\"PyTorch tensor from NumPy:\\n\", pytorch_from_numpy)\n",
    "\n",
    "# 8. Change the data type of the PyTorch tensor to torch.float32. Print the data type of the new tensor.\n",
    "float_tensor = pytorch_from_numpy.float()\n",
    "print(\"Data type of float_tensor:\", float_tensor.dtype)"
   ]
  }
 ],
 "metadata": {
  "kernelspec": {
   "display_name": "YOLO_GPU",
   "language": "python",
   "name": "python3"
  },
  "language_info": {
   "codemirror_mode": {
    "name": "ipython",
    "version": 3
   },
   "file_extension": ".py",
   "mimetype": "text/x-python",
   "name": "python",
   "nbconvert_exporter": "python",
   "pygments_lexer": "ipython3",
   "version": "3.9.20"
  }
 },
 "nbformat": 4,
 "nbformat_minor": 5
}
