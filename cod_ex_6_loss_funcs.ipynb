{
 "cells": [
  {
   "cell_type": "code",
   "execution_count": 2,
   "id": "2d96f57a",
   "metadata": {},
   "outputs": [
    {
     "name": "stdout",
     "output_type": "stream",
     "text": [
      "L1 Loss: tensor(0.6000)\n",
      "MSE Loss: tensor(0.4000)\n",
      "L1 Loss with outlier: tensor(4.)\n",
      "MSE Loss with outlier: tensor(61.6000)\n"
     ]
    }
   ],
   "source": [
    "import torch\n",
    "import torch.nn as nn\n",
    "\n",
    "# 1. Define a set of example model predictions (y_pred) and true values (y_true) as PyTorch tensors.\n",
    "y_pred = torch.tensor([2.0, 4.0, 6.0, 8.0, 10.0])\n",
    "y_true = torch.tensor([2.5, 3.5, 6.5, 7.5, 9.0])\n",
    "\n",
    "# 2. Instantiate the L1 Loss function from PyTorch.\n",
    "l1_loss_function = nn.L1Loss()\n",
    "\n",
    "# 3. Calculate the L1 Loss between y_pred and y_true.\n",
    "l1_loss = l1_loss_function(y_pred, y_true)\n",
    "print(\"L1 Loss:\", l1_loss)\n",
    "\n",
    "# 4. Instantiate the MSE (L2) Loss function from PyTorch.\n",
    "mse_loss_function = nn.MSELoss()  \n",
    "\n",
    "# 5. Calculate the MSE Loss between y_pred and y_true.\n",
    "mse_loss = mse_loss_function(y_pred, y_true)\n",
    "print(\"MSE Loss:\", mse_loss)\n",
    "\n",
    "# 6. Now, let's introduce an outlier in our predictions. Modify the first element of y_pred to 20.0.\n",
    "y_pred_with_outlier = torch.tensor([20.0, 4.0, 6.0, 8.0, 10.0])\n",
    "\n",
    "# 7. Calculate the L1 Loss with the outlier.\n",
    "l1_loss_with_outlier = l1_loss_function(y_pred_with_outlier, y_true)\n",
    "print(\"L1 Loss with outlier:\", l1_loss_with_outlier)\n",
    "\n",
    "# 8. Calculate the MSE Loss with the outlier.\n",
    "mse_loss_with_outlier = mse_loss_function(y_pred_with_outlier, y_true)\n",
    "print(\"MSE Loss with outlier:\", mse_loss_with_outlier)\n",
    "\n",
    "# 9. Based on the results, briefly explain in the comments the difference in how L1 Loss and MSE Loss are affected by the outlier.\n",
    "# Your explanation here:\n",
    "# L1 Loss calculates the absolute difference, so the impact of the outlier is linear. The increase in L1 Loss due to the outlier is directly proportional to the size of the outlier.\n",
    "# MSE Loss calculates the squared difference, so the impact of the outlier is quadratic. The increase in MSE Loss due to the outlier is much larger compared to L1 Loss because the error is squared, heavily penalizing the large error introduced by the outlier.\n",
    "# This demonstrates that MSE Loss is more sensitive to outliers than L1 Loss."
   ]
  }
 ],
 "metadata": {
  "kernelspec": {
   "display_name": "microglia_GPU",
   "language": "python",
   "name": "python3"
  },
  "language_info": {
   "codemirror_mode": {
    "name": "ipython",
    "version": 3
   },
   "file_extension": ".py",
   "mimetype": "text/x-python",
   "name": "python",
   "nbconvert_exporter": "python",
   "pygments_lexer": "ipython3",
   "version": "3.9.19"
  }
 },
 "nbformat": 4,
 "nbformat_minor": 5
}
