{
 "cells": [
  {
   "cell_type": "code",
   "execution_count": 2,
   "id": "ce84699f",
   "metadata": {},
   "outputs": [
    {
     "name": "stdout",
     "output_type": "stream",
     "text": [
      "CUDA is available! Using GPU.\n",
      "Time taken for CPU matrix multiplication: 0.3727 seconds\n",
      "Time taken for GPU matrix multiplication: 0.0152 seconds\n",
      "Result moved back to CPU: cpu\n"
     ]
    }
   ],
   "source": [
    "import torch\n",
    "import numpy as np\n",
    "import time\n",
    "\n",
    "# 1. Check if CUDA (GPU support) is available in PyTorch.\n",
    "if torch.cuda.is_available():\n",
    "    device = torch.device(\"cuda\")\n",
    "    print(\"CUDA is available! Using GPU.\")\n",
    "else:\n",
    "    device = torch.device(\"cpu\")\n",
    "    print(\"CUDA is not available. Using CPU.\")\n",
    "\n",
    "# 2. Create two large random tensors (e.g., of size 2048x2048) on the CPU.\n",
    "size = 2048\n",
    "tensor_cpu_1 = torch.rand(size, size)\n",
    "tensor_cpu_2 = torch.rand(size, size)\n",
    "\n",
    "# 3. Measure the time taken to perform matrix multiplication of these two tensors on the CPU.\n",
    "start_time_cpu = time.time()\n",
    "result_cpu = torch.matmul(tensor_cpu_1, tensor_cpu_2)\n",
    "end_time_cpu = time.time()\n",
    "time_taken_cpu = end_time_cpu - start_time_cpu\n",
    "print(f\"Time taken for CPU matrix multiplication: {time_taken_cpu:.4f} seconds\")\n",
    "\n",
    "# 4. Move the tensors to the GPU (if available).\n",
    "if device.type == 'cuda':\n",
    "    tensor_gpu_1 = tensor_cpu_1.to(device)\n",
    "    tensor_gpu_2 = tensor_cpu_2.to(device)\n",
    "\n",
    "    # 5. Measure the time taken to perform matrix multiplication of these two tensors on the GPU.\n",
    "    torch.cuda.synchronize()  # Ensure GPU operations are finished before timing\n",
    "    start_time_gpu = time.time()\n",
    "    result_gpu = torch.matmul(tensor_gpu_1, tensor_gpu_2)\n",
    "    torch.cuda.synchronize()\n",
    "    end_time_gpu = time.time()\n",
    "    time_taken_gpu = end_time_gpu - start_time_gpu\n",
    "    print(f\"Time taken for GPU matrix multiplication: {time_taken_gpu:.4f} seconds\")\n",
    "\n",
    "    # 6. Try to perform matrix multiplication between a tensor on the GPU and a tensor on the CPU.\n",
    "    #    Uncomment the line below and observe the error.\n",
    "    # result_mismatch = torch.matmul(tensor_gpu_1, tensor_cpu_1)\n",
    "\n",
    "    # 7. Move the GPU result back to the CPU.\n",
    "    result_gpu_cpu = result_gpu.cpu()\n",
    "    print(\"Result moved back to CPU:\", result_gpu_cpu.device)\n",
    "\n",
    "else:\n",
    "    print(\"Skipping GPU operations as CUDA is not available.\")"
   ]
  }
 ],
 "metadata": {
  "kernelspec": {
   "display_name": "YOLO_GPU",
   "language": "python",
   "name": "python3"
  },
  "language_info": {
   "codemirror_mode": {
    "name": "ipython",
    "version": 3
   },
   "file_extension": ".py",
   "mimetype": "text/x-python",
   "name": "python",
   "nbconvert_exporter": "python",
   "pygments_lexer": "ipython3",
   "version": "3.9.20"
  }
 },
 "nbformat": 4,
 "nbformat_minor": 5
}
