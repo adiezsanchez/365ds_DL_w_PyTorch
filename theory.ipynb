{
 "cells": [
  {
   "cell_type": "code",
   "execution_count": 3,
   "id": "cbfe2615",
   "metadata": {},
   "outputs": [],
   "source": [
    "import torch\n",
    "\n",
    "torch_scalar = torch.tensor(3.14)  # Scalar value updated to 3.14\n",
    "torch_vector = torch.tensor([2, 4, 6, 8])  # Vector with new values\n",
    "torch_matrix = torch.tensor([[12, 14],  # 2D Matrix updated with different values\n",
    "                             [16, 18],\n",
    "                             [20, 22],\n",
    "                             [24, 26]])   \n",
    "torch_tensor3d = torch.tensor([  # 3D Tensor with new values\n",
    "                             [ \n",
    "                             [ 0, 2, 4], \n",
    "                             [ 6, 8, 10], \n",
    "                             ], \n",
    "                             [ \n",
    "                             [12, 14, 16], \n",
    "                             [18, 20, 22], \n",
    "                             ], \n",
    "                             [ \n",
    "                             [24, 26, 28], \n",
    "                             [30, 32, 34], \n",
    "                             ], \n",
    "                             [\n",
    "                             [36, 38, 40],\n",
    "                             [42, 44, 46],\n",
    "                             ] \n",
    "                               ])"
   ]
  },
  {
   "cell_type": "code",
   "execution_count": 4,
   "id": "3d9d4720",
   "metadata": {},
   "outputs": [
    {
     "name": "stdout",
     "output_type": "stream",
     "text": [
      "torch.Size([])\n",
      "torch.Size([4])\n",
      "torch.Size([4, 2])\n",
      "torch.Size([4, 2, 3])\n"
     ]
    }
   ],
   "source": [
    "print(torch_scalar.shape) \n",
    "print(torch_vector.shape) \n",
    "print(torch_matrix.shape) \n",
    "print(torch_tensor3d.shape)"
   ]
  },
  {
   "cell_type": "code",
   "execution_count": 5,
   "id": "ffd22de1",
   "metadata": {},
   "outputs": [
    {
     "name": "stdout",
     "output_type": "stream",
     "text": [
      "[[0.80414286 0.08650698 0.85828411 0.81534665 0.6955122 ]\n",
      " [0.73797532 0.40303434 0.40230631 0.29161209 0.74205916]\n",
      " [0.29727088 0.39566314 0.6779999  0.53423313 0.72735986]]\n",
      "tensor([[0.8041, 0.0865, 0.8583, 0.8153, 0.6955],\n",
      "        [0.7380, 0.4030, 0.4023, 0.2916, 0.7421],\n",
      "        [0.2973, 0.3957, 0.6780, 0.5342, 0.7274]], dtype=torch.float64)\n"
     ]
    }
   ],
   "source": [
    "import numpy as np\n",
    "import torch\n",
    "\n",
    "# Create a random NumPy array\n",
    "x_np = np.random.random((3, 5))  # 3 rows, 5 columns\n",
    "print(x_np)\n",
    "# Example output (values will be random):\n",
    "# [[0.56347291 0.17683452 0.84931799 0.94718427 0.26507189]\n",
    "#  [0.04859423 0.35608158 0.91547634 0.70918372 0.12945809]\n",
    "#  [0.31789047 0.93812456 0.25783918 0.15896174 0.79729465]]\n",
    "\n",
    "# Convert the NumPy array to a PyTorch tensor\n",
    "x_pt = torch.tensor(x_np)\n",
    "print(x_pt)\n",
    "# Example output (values will be random):\n",
    "# tensor([[0.5635, 0.1768, 0.8493, 0.9472, 0.2651],\n",
    "#         [0.0486, 0.3561, 0.9155, 0.7092, 0.1295],\n",
    "#         [0.3179, 0.9381, 0.2578, 0.1590, 0.7973]], dtype=torch.float64)"
   ]
  },
  {
   "cell_type": "code",
   "execution_count": 8,
   "id": "407fd5f0",
   "metadata": {},
   "outputs": [
    {
     "name": "stdout",
     "output_type": "stream",
     "text": [
      "float64 torch.float64\n",
      "float32 torch.float32\n"
     ]
    }
   ],
   "source": [
    "print(x_np.dtype, x_pt.dtype) \n",
    "\n",
    "x_np = np.asarray(x_np, dtype=np.float32)   \n",
    "x_pt = torch.tensor(x_np, dtype=torch.float32) \n",
    "print(x_np.dtype, x_pt.dtype) "
   ]
  },
  {
   "cell_type": "code",
   "execution_count": 9,
   "id": "c708c963",
   "metadata": {},
   "outputs": [
    {
     "name": "stdout",
     "output_type": "stream",
     "text": [
      "[[ True False  True  True  True]\n",
      " [ True False False False  True]\n",
      " [False False  True  True  True]]\n",
      "bool\n",
      "tensor([[ True, False,  True,  True,  True],\n",
      "        [ True, False, False, False,  True],\n",
      "        [False, False,  True,  True,  True]])\n",
      "torch.bool\n"
     ]
    }
   ],
   "source": [
    "b_np = (x_np > 0.5) \n",
    "print(b_np) \n",
    "print(b_np.dtype) \n",
    "\n",
    "b_pt = (x_pt > 0.5) \n",
    "print(b_pt) \n",
    "print(b_pt.dtype) \n"
   ]
  },
  {
   "cell_type": "code",
   "execution_count": null,
   "id": "9c5d1de7",
   "metadata": {},
   "outputs": [],
   "source": [
    "b_np = (x_np > 0.5) \n",
    "print(b_np) \n",
    "print(b_np.dtype) \n",
    "\n",
    "[[False True True False]\n",
    " [False True False True]\n",
    " [False False True False]\n",
    " [False False False True]]\n",
    "bool\n",
    "\n",
    "b_pt = (x_pt > 0.5) \n",
    "print(b_pt) \n",
    "print(b_pt.dtype) \n",
    "tensor([[False,  True,  True, False],\n",
    "        [False,  True, False,  True], \n",
    "        [False, False,  True, False], \n",
    "        [False, False, False,  True]]) \n",
    "torch.bool"
   ]
  },
  {
   "cell_type": "code",
   "execution_count": 10,
   "id": "ebd3148e",
   "metadata": {},
   "outputs": [
    {
     "name": "stdout",
     "output_type": "stream",
     "text": [
      "tensor([1., 2., 3.])\n",
      "tensor([2., 5.])\n"
     ]
    }
   ],
   "source": [
    "# Create tensor\n",
    "x = torch.tensor([[1., 2., 3.], [4., 5., 6.]])\n",
    "\n",
    "# 1. Indexing and Slicing\n",
    "print(x[0])              #  tensor([1., 2., 3.]) → First row\n",
    "print(x[:, 1])           #  tensor([2., 5.]) → Second column"
   ]
  },
  {
   "cell_type": "code",
   "execution_count": 11,
   "id": "9212ff08",
   "metadata": {},
   "outputs": [
    {
     "name": "stdout",
     "output_type": "stream",
     "text": [
      "tensor([[0., 0., 0.],\n",
      "        [0., 0., 0.]])\n",
      "tensor([[1., 1., 1.],\n",
      "        [1., 1., 1.]])\n",
      "tensor([[0.0765, 0.0338, 0.2631],\n",
      "        [0.9296, 0.2889, 0.3943]])\n",
      "tensor([[1., 0., 0.],\n",
      "        [0., 1., 0.],\n",
      "        [0., 0., 1.]])\n"
     ]
    }
   ],
   "source": [
    "# 2. Tensor Creation\n",
    "zeros = torch.zeros((2, 3))\n",
    "ones = torch.ones((2, 3))\n",
    "rand = torch.rand((2, 3))\n",
    "eye = torch.eye(3)\n",
    "print(zeros)             #  All zeros\n",
    "print(ones)              #  All ones\n",
    "print(rand)              #  Random [0,1)\n",
    "print(eye)               #  Identity matrix"
   ]
  },
  {
   "cell_type": "code",
   "execution_count": 12,
   "id": "efff2990",
   "metadata": {},
   "outputs": [
    {
     "name": "stdout",
     "output_type": "stream",
     "text": [
      "tensor([[ 2.,  4.,  6.],\n",
      "        [ 8., 10., 12.]])\n",
      "tensor([[2., 3., 4.],\n",
      "        [5., 6., 7.]])\n",
      "tensor([[ 1.,  4.,  9.],\n",
      "        [16., 25., 36.]])\n"
     ]
    }
   ],
   "source": [
    "# 3. Arithmetic Operations\n",
    "print(x * 2)             #  Multiply each element by 2\n",
    "print(x + 1)             #  Add 1 to each element\n",
    "print(x ** 2)            #  Element-wise square"
   ]
  },
  {
   "cell_type": "code",
   "execution_count": 13,
   "id": "5c3469f4",
   "metadata": {},
   "outputs": [
    {
     "name": "stdout",
     "output_type": "stream",
     "text": [
      "tensor([[False, False,  True],\n",
      "        [ True,  True,  True]])\n"
     ]
    }
   ],
   "source": [
    "# 4. Comparison\n",
    "print(x > 2)             #  tensor([[False, False,  True],\n",
    "                        #             [ True,  True,  True]])"
   ]
  },
  {
   "cell_type": "code",
   "execution_count": 14,
   "id": "893f5840",
   "metadata": {},
   "outputs": [
    {
     "name": "stdout",
     "output_type": "stream",
     "text": [
      "tensor([[2., 2., 4.],\n",
      "        [5., 5., 7.]])\n"
     ]
    }
   ],
   "source": [
    "# 5. Broadcasting\n",
    "b = torch.tensor([1., 0., 1.])  # Shape: (3,)\n",
    "print(x + b)             #  Broadcasted row-wise addition"
   ]
  },
  {
   "cell_type": "code",
   "execution_count": 15,
   "id": "ffaab805",
   "metadata": {},
   "outputs": [
    {
     "name": "stdout",
     "output_type": "stream",
     "text": [
      "tensor(21.)\n",
      "tensor([5., 7., 9.])\n",
      "tensor([ 6., 15.])\n"
     ]
    }
   ],
   "source": [
    "# 6. Reduction operations\n",
    "print(x.sum())           #  Sum of all elements: 21.\n",
    "print(x.sum(dim=0))      #  Column-wise sum: tensor([5., 7., 9.])\n",
    "print(x.sum(dim=1))      #  Row-wise sum: tensor([6., 15.])"
   ]
  },
  {
   "cell_type": "code",
   "execution_count": 19,
   "id": "9b0543b5",
   "metadata": {},
   "outputs": [
    {
     "name": "stdout",
     "output_type": "stream",
     "text": [
      "tensor([[1, 2, 3],\n",
      "        [4, 5, 6]])\n",
      "tensor([1, 2, 3, 4, 5, 6])\n"
     ]
    }
   ],
   "source": [
    "# 7. Stacking\n",
    "a = torch.tensor([1, 2, 3])\n",
    "b = torch.tensor([4, 5, 6])\n",
    "print(torch.stack([a, b]))        #  creates a new dimension and stacks tensors along that dimension\n",
    "print(torch.cat([a, b]))          #  combines tensors along an existing dimension, resulting in a tensor twice as long"
   ]
  },
  {
   "cell_type": "code",
   "execution_count": 26,
   "id": "e3eb2d59",
   "metadata": {},
   "outputs": [
    {
     "name": "stdout",
     "output_type": "stream",
     "text": [
      "tensor([[1., 2., 3.]])\n",
      "tensor([[1.],\n",
      "        [4.]])\n"
     ]
    }
   ],
   "source": [
    "# 8. Splitting\n",
    "splits = torch.chunk(x, 2, dim=0)\n",
    "print(splits[0])         #  tensor([[1., 2., 3.]]), splits is a tuple\n",
    "\n",
    "splits = torch.chunk(x, 3,dim=1)\n",
    "print(splits[0])         #  tensor([[1.], [4.]]), splits is a tuple"
   ]
  },
  {
   "cell_type": "code",
   "execution_count": 27,
   "id": "2e3676e0",
   "metadata": {},
   "outputs": [
    {
     "name": "stdout",
     "output_type": "stream",
     "text": [
      "2\n",
      "torch.Size([2, 3])\n",
      "6\n"
     ]
    }
   ],
   "source": [
    "# 9. Dimensionality\n",
    "print(x.ndim)            #  2\n",
    "print(x.shape)           #  torch.Size([2, 3])\n",
    "print(x.numel())         #  Total elements: 6"
   ]
  },
  {
   "cell_type": "code",
   "execution_count": 28,
   "id": "4c8b4ad7",
   "metadata": {},
   "outputs": [
    {
     "name": "stdout",
     "output_type": "stream",
     "text": [
      "tensor([[1., 2.],\n",
      "        [3., 4.],\n",
      "        [5., 6.]])\n"
     ]
    }
   ],
   "source": [
    "# 10. Reshaping\n",
    "reshaped = x.view(3, 2)\n",
    "print(reshaped)          #  tensor([[1., 2.], [3., 4.], [5., 6.]])"
   ]
  },
  {
   "cell_type": "code",
   "execution_count": null,
   "id": "2ed3ca6e",
   "metadata": {},
   "outputs": [
    {
     "name": "stdout",
     "output_type": "stream",
     "text": [
      "tensor([1., 2., 3., 4., 5., 6.])\n",
      "tensor([[[1., 2., 3.],\n",
      "         [4., 5., 6.]]])\n",
      "tensor([[[1.],\n",
      "         [2.],\n",
      "         [3.]],\n",
      "\n",
      "        [[4.],\n",
      "         [5.],\n",
      "         [6.]]])\n"
     ]
    }
   ],
   "source": [
    "# 11. Flatten and unsqueeze\n",
    "print(x.flatten())       #  tensor([1., 2., 3., 4., 5., 6.])\n",
    "print(x.unsqueeze(0))    #  Add batch dim → shape: (1, 2, 3) when working with a single sample\n",
    "print(x.unsqueeze(-1))   #  Add feature dim → shape: (2, 3, 1) at the end in time series or sequence models"
   ]
  },
  {
   "cell_type": "code",
   "execution_count": 30,
   "id": "3df8a0db",
   "metadata": {},
   "outputs": [
    {
     "name": "stdout",
     "output_type": "stream",
     "text": [
      "tensor([[1, 2, 3],\n",
      "        [4, 5, 6]], dtype=torch.int32)\n"
     ]
    }
   ],
   "source": [
    "# 12. Type casting\n",
    "x_int = x.int()\n",
    "print(x_int)             #  tensor([[1, 2, 3], [4, 5, 6]], dtype=torch.int32)"
   ]
  },
  {
   "cell_type": "code",
   "execution_count": null,
   "id": "2014a534",
   "metadata": {},
   "outputs": [],
   "source": [
    "# 13. In-place operation\n",
    "\n",
    "# An in-place operation directly modifies the data of a tensor without creating a new copy.\n",
    "# In PyTorch, in-place operations are marked with an underscore (_) at the end of the method name.\n",
    "\n",
    "# Memory efficient but can interfere with autograd, not always safe during backpropagation (can overwrite values needed for gradients)\n",
    "\n",
    "x_clone = x.clone()\n",
    "x_clone.add_(1)\n",
    "print(x_clone)           #  Values incremented in-place"
   ]
  },
  {
   "cell_type": "code",
   "execution_count": 2,
   "id": "d0a24be8",
   "metadata": {},
   "outputs": [],
   "source": [
    "import timeit\n",
    "import torch\n",
    " \n",
    "x = torch.rand(2**11, 2**11) \n",
    "time_cpu = timeit.timeit(\"x@x\", globals=globals(), number=100)"
   ]
  },
  {
   "cell_type": "code",
   "execution_count": 3,
   "id": "21f30ae5",
   "metadata": {},
   "outputs": [
    {
     "name": "stdout",
     "output_type": "stream",
     "text": [
      "Is CUDA available? : True\n"
     ]
    }
   ],
   "source": [
    "# Choose GPU device\n",
    "print(\"Is CUDA available? :\", torch.cuda.is_available()) \n",
    "device = torch.device(\"cuda\") "
   ]
  },
  {
   "cell_type": "code",
   "execution_count": 4,
   "id": "d914f4e0",
   "metadata": {},
   "outputs": [],
   "source": [
    "x = x.to(device) \n",
    "time_gpu = timeit.timeit(\"x@x\", globals=globals(), number=100)"
   ]
  },
  {
   "cell_type": "code",
   "execution_count": 5,
   "id": "a9ef83f6",
   "metadata": {},
   "outputs": [],
   "source": [
    "# To convert GPU tensors back to Numpy arrays, first call .cpu() to transfer the tensor back to the CPU, then call .numpy()\n",
    "x_cpu = x.cpu().numpy()"
   ]
  },
  {
   "cell_type": "code",
   "execution_count": 7,
   "id": "e89e913e",
   "metadata": {},
   "outputs": [
    {
     "name": "stdout",
     "output_type": "stream",
     "text": [
      "5.176167199999998 0.10604759999999658\n"
     ]
    }
   ],
   "source": [
    "print (time_cpu, time_gpu)"
   ]
  },
  {
   "cell_type": "code",
   "execution_count": null,
   "id": "2427c3aa",
   "metadata": {},
   "outputs": [
    {
     "name": "stdout",
     "output_type": "stream",
     "text": [
      "tensor([[-2.0096,  3.4394,  3.4887],\n",
      "        [ 1.6035,  1.1844,  6.3094],\n",
      "        [-0.0747,  4.4218,  1.2055]])\n"
     ]
    }
   ],
   "source": [
    "# Create a tensor and track its gradient\n",
    "\n",
    "# Create a tensor with requires_grad set to True\n",
    "x = torch.randn(3, 3, requires_grad=True)  # Example tensor\n",
    "\n",
    "# Define a simple function to minimize\n",
    "y = x**2 + 3*x + 5  # Example quadratic function\n",
    "\n",
    "# Now we can compute the gradients\n",
    "# A common pitfall is attempting to compute gradients on non-scalar outputs without specifying how to reduce them\n",
    "y.sum().backward()  # Computes the gradient of the sum of y\n",
    "\n",
    "# Gradients are now stored in x.grad\n",
    "print(x.grad)  # This will give the gradient of y with respect to x"
   ]
  },
  {
   "cell_type": "code",
   "execution_count": null,
   "id": "0f0f1413",
   "metadata": {},
   "outputs": [],
   "source": []
  }
 ],
 "metadata": {
  "kernelspec": {
   "display_name": "YOLO_GPU",
   "language": "python",
   "name": "python3"
  },
  "language_info": {
   "codemirror_mode": {
    "name": "ipython",
    "version": 3
   },
   "file_extension": ".py",
   "mimetype": "text/x-python",
   "name": "python",
   "nbconvert_exporter": "python",
   "pygments_lexer": "ipython3",
   "version": "3.9.20"
  }
 },
 "nbformat": 4,
 "nbformat_minor": 5
}
